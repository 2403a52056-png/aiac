{
  "nbformat": 4,
  "nbformat_minor": 0,
  "metadata": {
    "colab": {
      "provenance": [],
      "authorship_tag": "ABX9TyOHjq37Pz5e8A0p66bIphbT",
      "include_colab_link": true
    },
    "kernelspec": {
      "name": "python3",
      "display_name": "Python 3"
    },
    "language_info": {
      "name": "python"
    }
  },
  "cells": [
    {
      "cell_type": "markdown",
      "metadata": {
        "id": "view-in-github",
        "colab_type": "text"
      },
      "source": [
        "<a href=\"https://colab.research.google.com/github/2403a52056-png/aiac/blob/main/Untitled7.ipynb\" target=\"_parent\"><img src=\"https://colab.research.google.com/assets/colab-badge.svg\" alt=\"Open In Colab\"/></a>"
      ]
    },
    {
      "cell_type": "code",
      "execution_count": null,
      "metadata": {
        "id": "5gsuTZHLHQEz"
      },
      "outputs": [],
      "source": []
    },
    {
      "cell_type": "markdown",
      "source": [
        "TEXT1:Function to check if a string is a valid palindrome\n",
        "prompt:"
      ],
      "metadata": {
        "id": "_r4Ch57lIVC3"
      }
    },
    {
      "cell_type": "code",
      "metadata": {
        "colab": {
          "base_uri": "https://localhost:8080/"
        },
        "id": "13709ae6",
        "outputId": "6cc6e875-7bc3-4be3-8abc-4695d2f691ed"
      },
      "source": [
        "def is_palindrome(s):\n",
        "    \"\"\"\n",
        "    Checks if a string is a valid palindrome.\n",
        "\n",
        "    Args:\n",
        "        s: The input string.\n",
        "\n",
        "    Returns:\n",
        "        True if the string is a palindrome, False otherwise.\n",
        "    \"\"\"\n",
        "    s = s.lower()  # Convert to lowercase for case-insensitive comparison\n",
        "    return s == s[::-1]  # Check if the string is equal to its reverse\n",
        "\n",
        "# Example usage\n",
        "string1 = \"racecar\"\n",
        "string2 = \"hello\"\n",
        "\n",
        "print(f\"'{string1}' is a palindrome: {is_palindrome(string1)}\")\n",
        "print(f\"'{string2}' is a palindrome: {is_palindrome(string2)}\")"
      ],
      "execution_count": 1,
      "outputs": [
        {
          "output_type": "stream",
          "name": "stdout",
          "text": [
            "'racecar' is a palindrome: True\n",
            "'hello' is a palindrome: False\n"
          ]
        }
      ]
    },
    {
      "cell_type": "markdown",
      "source": [
        "Explanation: This code defines a function called is_palindrome that takes one argument, s, which is expected to be a string.\n",
        "\n",
        "def is_palindrome(s): : This line defines the function named is_palindrome with the input parameter s.\n",
        "The triple-quoted string is a docstring, which explains what the function does, its arguments (Args), and what it returns (Returns). This is a standard way to document Python code."
      ],
      "metadata": {
        "id": "jJILsuAHI0lY"
      }
    },
    {
      "cell_type": "markdown",
      "source": [
        "TEST2:Generate a Python function that returns the Fibonacci sequence up to n terms\n",
        "prompt:give a Python code that returns the Fibonacci sequence up to n terms"
      ],
      "metadata": {
        "id": "cyb0tNy6JElm"
      }
    },
    {
      "cell_type": "code",
      "metadata": {
        "colab": {
          "base_uri": "https://localhost:8080/"
        },
        "id": "9d398dc6",
        "outputId": "80779129-0bf4-4d46-a9d2-ae1c20dc59b1"
      },
      "source": [
        "def fibonacci_sequence(n):\n",
        "    \"\"\"\n",
        "    Generates the Fibonacci sequence up to n terms.\n",
        "\n",
        "    Args:\n",
        "        n: The number of terms in the sequence.\n",
        "\n",
        "    Returns:\n",
        "        A list containing the Fibonacci sequence.\n",
        "    \"\"\"\n",
        "    if n <= 0:\n",
        "        return []\n",
        "    elif n == 1:\n",
        "        return [0]\n",
        "    else:\n",
        "        sequence = [0, 1]\n",
        "        while len(sequence) < n:\n",
        "            next_term = sequence[-1] + sequence[-2]\n",
        "            sequence.append(next_term)\n",
        "        return sequence\n",
        "\n",
        "# Example usage\n",
        "num_terms = 10\n",
        "fib_sequence = fibonacci_sequence(num_terms)\n",
        "print(f\"Fibonacci sequence up to {num_terms} terms: {fib_sequence}\")"
      ],
      "execution_count": 2,
      "outputs": [
        {
          "output_type": "stream",
          "name": "stdout",
          "text": [
            "Fibonacci sequence up to 10 terms: [0, 1, 1, 2, 3, 5, 8, 13, 21, 34]\n"
          ]
        }
      ]
    },
    {
      "cell_type": "markdown",
      "source": [
        "Explanation:\n",
        "This selected code defines a function called fibonacci_sequence that takes an integer n as input.\n",
        "\n",
        "def fibonacci_sequence(n): : This line defines the function named fibonacci_sequence that accepts one argument, n.\n",
        "The triple-quoted string is a docstring, which provides a description of what the function does (generates the Fibonacci sequence), its arguments (Args: n), and what it returns (Returns: A list containing the Fibonacci sequence). This is good practice for documenting Python code.\n"
      ],
      "metadata": {
        "id": "QXramHpBJkGC"
      }
    },
    {
      "cell_type": "markdown",
      "source": [
        "TEST3:Function to reverse a string\n",
        "prompt:generate the code of a function to reverse a string"
      ],
      "metadata": {
        "id": "gtGXNX5fJobn"
      }
    },
    {
      "cell_type": "code",
      "source": [],
      "metadata": {
        "id": "qj18IJ2KMPow"
      },
      "execution_count": null,
      "outputs": []
    },
    {
      "cell_type": "markdown",
      "source": [
        "Explanation:"
      ],
      "metadata": {
        "id": "C8OT8yJLLuY1"
      }
    },
    {
      "cell_type": "code",
      "metadata": {
        "colab": {
          "base_uri": "https://localhost:8080/"
        },
        "id": "f49f9787",
        "outputId": "980e0798-cd01-410d-bef9-fcf69b0d1fde"
      },
      "source": [
        "def reverse_string(s):\n",
        "  \"\"\"Reverses a given string.\n",
        "\n",
        "  Args:\n",
        "    s: The input string.\n",
        "\n",
        "  Returns:\n",
        "    The reversed string.\n",
        "  \"\"\"\n",
        "  return s[::-1]\n",
        "\n",
        "# Example usage\n",
        "my_string = \"hello\"\n",
        "reversed_string = reverse_string(my_string)\n",
        "print(f\"The original string is: {my_string}\")\n",
        "print(f\"The reversed string is: {reversed_string}\")"
      ],
      "execution_count": 4,
      "outputs": [
        {
          "output_type": "stream",
          "name": "stdout",
          "text": [
            "The original string is: hello\n",
            "The reversed string is: olleh\n"
          ]
        }
      ]
    },
    {
      "cell_type": "markdown",
      "source": [
        "explanation:\n",
        "def reverse_string(s):: This line defines the function named reverse_string with the input parameter s.\n",
        "The triple-quoted string is a docstring, providing a brief description of what the function does, its arguments (Args), and what it returns (Returns). This is a standard practice for documenting Python code.\n",
        "return s[::-1]: This is the core of the function. It uses Python's slicing feature to reverse the string. The [::-1] slice creates a reversed copy of the string s."
      ],
      "metadata": {
        "id": "d0hihXpvN9mG"
      }
    },
    {
      "cell_type": "markdown",
      "source": [
        "test4:Generate a program that simulates a basic calculator\n",
        "prompt:generate a python code that simulates a basic caluculator"
      ],
      "metadata": {
        "id": "tlPLS5hDOD8C"
      }
    },
    {
      "cell_type": "code",
      "metadata": {
        "id": "6be60b64"
      },
      "source": [
        "def add(x, y):\n",
        "  \"\"\"Adds two numbers.\"\"\"\n",
        "  return x + y\n",
        "\n",
        "def subtract(x, y):\n",
        "  \"\"\"Subtracts two numbers.\"\"\"\n",
        "  return x - y\n",
        "\n",
        "def multiply(x, y):\n",
        "  \"\"\"Multiplies two numbers.\"\"\"\n",
        "  return x * y\n",
        "\n",
        "def divide(x, y):\n",
        "  \"\"\"Divides two numbers.\"\"\"\n",
        "  if y == 0:\n",
        "    return \"Error! Division by zero.\"\n",
        "  else:\n",
        "    return x / y"
      ],
      "execution_count": 5,
      "outputs": []
    },
    {
      "cell_type": "markdown",
      "source": [],
      "metadata": {
        "id": "v602u5feSOz5"
      }
    },
    {
      "cell_type": "markdown",
      "source": [
        "explanation:\n",
        "def add(x, y):: This line defines a function named add that takes two arguments, x and y. The docstring \"\"\"Adds two numbers.\"\"\" explains its purpose. return x + y returns the sum of x and y.\n",
        "def subtract(x, y):: This line defines a function named subtract that takes two arguments, x and y. The docstring \"\"\"Subtracts two numbers.\"\"\" explains its purpose. return x - y returns the difference between x and y"
      ],
      "metadata": {
        "id": "A-UsCwMkT_Z2"
      }
    },
    {
      "cell_type": "markdown",
      "source": [
        "test5: write a function that reads a file and returns the\n",
        "number of lines.\n",
        "prompt:generate a code of a function that reads a file and returns the number of lines."
      ],
      "metadata": {
        "id": "GmTqjr7xUIPB"
      }
    },
    {
      "cell_type": "markdown",
      "source": [
        "explanation:"
      ],
      "metadata": {
        "id": "vPBFGmLLVLGz"
      }
    },
    {
      "cell_type": "code",
      "metadata": {
        "id": "4504cb23"
      },
      "source": [
        "def count_lines_in_file(filepath):\n",
        "  \"\"\"\n",
        "  Reads a file and returns the number of lines.\n",
        "\n",
        "  Args:\n",
        "    filepath: The path to the file.\n",
        "\n",
        "  Returns:\n",
        "    The number of lines in the file, or an error message if the file cannot be read.\n",
        "  \"\"\"\n",
        "  try:\n",
        "    with open(filepath, 'r') as file:\n",
        "      line_count = sum(1 for line in file)\n",
        "    return line_count\n",
        "  except FileNotFoundError:\n",
        "    return f\"Error: File not found at {filepath}\"\n",
        "  except Exception as e:\n",
        "    return f\"An error occurred: {e}\"\n",
        "\n",
        "# Example usage (assuming you have a file named 'my_file.txt' in the same directory)\n",
        "# You might need to create a dummy file for testing if you don't have one.\n",
        "# For example, you can create a file with some lines using the following code in a separate cell:\n",
        "# with open('my_file.txt', 'w') as f:\n",
        "#     f.write('This is line 1\\n')\n",
        "#     f.write('This is line 2\\n')\n",
        "#     f.write('This is line 3\\n')\n",
        "\n",
        "# file_path = 'my_file.txt'\n",
        "# num_lines = count_lines_in_file(file_path)\n",
        "# print(f\"The file '{file_path}' has {num_lines} lines.\")"
      ],
      "execution_count": 11,
      "outputs": []
    },
    {
      "cell_type": "markdown",
      "source": [
        "explanation:\n",
        "code defines a Python function called count_lines_in_file that takes one argument, filepath, which is expected to be the path to a file.\n",
        "\n",
        "def count_lines_in_file(filepath):: This line defines the function named count_lines_in_file that accepts one argument, filepath.\n",
        "The triple-quoted string is a docstring, providing a description of what the function does (reads a file and returns the number of lines), its arguments (Args: filepath), and what it returns (Returns: The number of lines in the file, or an error message if the file cannot be read.). This is good practice for documenting Python code."
      ],
      "metadata": {
        "id": "e2lC2FXIV_F6"
      }
    },
    {
      "cell_type": "markdown",
      "source": [],
      "metadata": {
        "id": "yzxcWT0SWltt"
      }
    },
    {
      "cell_type": "markdown",
      "source": [],
      "metadata": {
        "id": "SJm-pPnQWg92"
      }
    }
  ]
}