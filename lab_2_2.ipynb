{
  "nbformat": 4,
  "nbformat_minor": 0,
  "metadata": {
    "colab": {
      "provenance": [],
      "authorship_tag": "ABX9TyOOxa4ioaC/E1mqj+l4vqxp",
      "include_colab_link": true
    },
    "kernelspec": {
      "name": "python3",
      "display_name": "Python 3"
    },
    "language_info": {
      "name": "python"
    }
  },
  "cells": [
    {
      "cell_type": "markdown",
      "metadata": {
        "id": "view-in-github",
        "colab_type": "text"
      },
      "source": [
        "<a href=\"https://colab.research.google.com/github/2403a52056-png/aiac/blob/main/lab_2_2.ipynb\" target=\"_parent\"><img src=\"https://colab.research.google.com/assets/colab-badge.svg\" alt=\"Open In Colab\"/></a>"
      ]
    },
    {
      "cell_type": "code",
      "execution_count": null,
      "metadata": {
        "id": "YLQUVczh11EK"
      },
      "outputs": [],
      "source": [
        "Task1; write a function that filters out all negative numbers from a\n",
        "given list\n",
        "prompt; build and generate a code to filter all negative numbers"
      ]
    },
    {
      "cell_type": "markdown",
      "source": [
        "Task1; write a function that filters out all negative numbers from a\n",
        "given list"
      ],
      "metadata": {
        "id": "BizC3S9O13eT"
      }
    },
    {
      "cell_type": "code",
      "metadata": {
        "colab": {
          "base_uri": "https://localhost:8080/"
        },
        "id": "76d55567",
        "outputId": "77771cb3-523e-4705-a4bf-09e14cee2969"
      },
      "source": [
        "def filter_negative_numbers(input_list):\n",
        "  \"\"\"Filters out all negative numbers from a given list.\n",
        "\n",
        "  Args:\n",
        "    input_list: A list of numbers.\n",
        "\n",
        "  Returns:\n",
        "    A new list containing only the non-negative numbers from the input list.\n",
        "  \"\"\"\n",
        "  return [number for number in input_list if number >= 0]\n",
        "\n",
        "# Example usage:\n",
        "my_list = [1, -2, 3, -4, 5, 0, -6]\n",
        "filtered_list = filter_negative_numbers(my_list)\n",
        "print(filtered_list)"
      ],
      "execution_count": null,
      "outputs": [
        {
          "output_type": "stream",
          "name": "stdout",
          "text": [
            "[1, 3, 5, 0]\n"
          ]
        }
      ]
    },
    {
      "cell_type": "markdown",
      "source": [
        "explanation:\n",
        "my_list = [1, -2, 3, -4, 5, 0, -6]\n",
        "This code defines a Python function called filter_negative_numbers that takes one argument, input_list.\n",
        "\n",
        "The docstring within the function (the text enclosed in triple quotes) explains what the function does: it filters out all negative numbers from the input list. It also specifies the arguments the function expects (input_list as a list of numbers) and what it returns (a new list containing only non-negative numbers).\n",
        "[1, 3, 5, 0] is my output.\n"
      ],
      "metadata": {
        "id": "8B34H5sc2LRJ"
      }
    },
    {
      "cell_type": "markdown",
      "source": [
        "Task2; generate code that reads a text file and counts the frequency of each\n",
        "word.\n",
        "prompt; build a code that read the text file and counts the frequency of each word."
      ],
      "metadata": {
        "id": "Jy5Ljgv83QR2"
      }
    },
    {
      "cell_type": "code",
      "metadata": {
        "id": "e5d73118"
      },
      "source": [
        "# Create a dummy text file for demonstration\n",
        "with open('sample.txt', 'w') as f:\n",
        "    f.write(\"This is a sample text file.\\n\")\n",
        "    f.write(\"This file is just a sample.\\n\")\n",
        "    f.write(\"Sample sample sample.\")"
      ],
      "execution_count": null,
      "outputs": []
    },
    {
      "cell_type": "markdown",
      "source": [
        "Explanation:\n",
        "    f.write(\"This is a sample text file.\\n\")\n",
        "    f.write(\"This file is just a sample.\\n\")\n",
        "    f.write(\"Sample sample sample.\")\n",
        "     This code snippet creates a text file named sample.txt in write mode ('w'). The with open(...) as f: syntax ensures that the file is automatically closed even if errors occur.\n",
        "\n",
        "Inside the with block, the code writes three lines of text into the file using the f.write() method, including newline characters (\\n) to separate the lines.\n"
      ],
      "metadata": {
        "id": "tY88YlIz5W1k"
      }
    },
    {
      "cell_type": "code",
      "metadata": {
        "colab": {
          "base_uri": "https://localhost:8080/"
        },
        "id": "172ccc31",
        "outputId": "d32c45e7-2cc9-456d-c147-c9d73710e1cc"
      },
      "source": [
        "from collections import Counter\n",
        "import re\n",
        "\n",
        "def count_word_frequency(filename):\n",
        "  \"\"\"Reads a text file and counts the frequency of each word.\n",
        "\n",
        "  Args:\n",
        "    filename: The name of the text file.\n",
        "\n",
        "  Returns:\n",
        "    A dictionary where keys are words and values are their frequencies.\n",
        "  \"\"\"\n",
        "  with open(filename, 'r') as f:\n",
        "    text = f.read().lower()  # Read the file and convert to lowercase\n",
        "  words = re.findall(r'\\b\\w+\\b', text) # Find all words using regex\n",
        "  word_counts = Counter(words) # Count word frequencies\n",
        "  return word_counts\n",
        "\n",
        "# Example usage with the dummy file:\n",
        "filename = 'sample.txt'\n",
        "word_frequencies = count_word_frequency(filename)\n",
        "print(word_frequencies)"
      ],
      "execution_count": null,
      "outputs": [
        {
          "output_type": "stream",
          "name": "stdout",
          "text": [
            "Counter({'sample': 5, 'this': 2, 'is': 2, 'a': 2, 'file': 2, 'text': 1, 'just': 1})\n"
          ]
        }
      ]
    },
    {
      "cell_type": "markdown",
      "source": [
        "Explanation:\n",
        "    f.write(\"This is a sample text file.\\n\")\n",
        "    f.write(\"This file is just a sample.\\n\")\n",
        "    f.write(\"Sample sample sample.\")\n",
        "This code snippet creates a text file named sample.txt in write mode ('w'). The with open(...) as f: syntax ensures that the file is automatically closed even if errors occur.\n",
        "\n",
        "Inside the with block, the code writes three lines of text into the file using the f.write() method, including newline characters (\\n) to separate the lines."
      ],
      "metadata": {
        "id": "wDR9O48H70aC"
      }
    },
    {
      "cell_type": "markdown",
      "source": [
        "Task3; Generate a Python class called Book with attributes title, author, and a method summary() that prints the details.\n",
        "prompt; generate python class named book with attributes title, author, and a method summary() that prints the details.\n"
      ],
      "metadata": {
        "id": "5P1CsXIV8R-P"
      }
    },
    {
      "cell_type": "code",
      "metadata": {
        "colab": {
          "base_uri": "https://localhost:8080/"
        },
        "id": "eb3391a1",
        "outputId": "ff1d7881-4b9e-48ab-ac01-a1e06e094e84"
      },
      "source": [
        "class Book:\n",
        "  \"\"\"Represents a book with title and author.\"\"\"\n",
        "\n",
        "  def __init__(self, title, author):\n",
        "    \"\"\"Initializes a new Book object.\n",
        "\n",
        "    Args:\n",
        "      title: The title of the book.\n",
        "      author: The author of the book.\n",
        "    \"\"\"\n",
        "    self.title = title\n",
        "    self.author = author\n",
        "\n",
        "  def summary(self):\n",
        "    \"\"\"Prints the details of the book.\"\"\"\n",
        "    print(f\"Title: {self.title}\")\n",
        "    print(f\"Author: {self.author}\")\n",
        "\n",
        "# Example usage:\n",
        "my_book = Book(\"The Hitchhiker's Guide to the Galaxy\", \"Douglas Adams\")\n",
        "my_book.summary()"
      ],
      "execution_count": null,
      "outputs": [
        {
          "output_type": "stream",
          "name": "stdout",
          "text": [
            "Title: The Hitchhiker's Guide to the Galaxy\n",
            "Author: Douglas Adams\n"
          ]
        }
      ]
    },
    {
      "cell_type": "markdown",
      "source": [
        "Explanation:\n",
        "class Book:\n",
        "  def __init__(self, title, author):\n",
        "    \"\"\"Initializes a new Book object.\n",
        "  This is a method within the Book class called summary. When you call this method on a Book object, it will print the Title and Author of that specific book using the self.title and self.author attributes. The f-string formatting allows us to easily include the values of these attributes in the printed output.\n",
        "  and here is the output\n",
        "  Title: The Hitchhiker's Guide to the Galaxy\n",
        "  Author: Douglas Adams"
      ],
      "metadata": {
        "id": "0GeGNawA9N1O"
      }
    },
    {
      "cell_type": "markdown",
      "source": [
        "Task4; write a program that checks whether a number is an Armstrong\n",
        "number, and then modify it to improve performance or structure\n",
        "prompt; generate a code that checks whether a number is an Armstrong number and modify it to improve performance or structure."
      ],
      "metadata": {
        "id": "8IoeAEaR-HwB"
      }
    },
    {
      "cell_type": "code",
      "metadata": {
        "colab": {
          "base_uri": "https://localhost:8080/"
        },
        "id": "3643c15c",
        "outputId": "177a130f-8ecb-4d61-d4ba-05b7afa0cc40"
      },
      "source": [
        "def is_armstrong_number(number):\n",
        "  \"\"\"Checks if a number is an Armstrong number.\n",
        "\n",
        "  An Armstrong number is a number that is the sum of its own digits each raised\n",
        "  to the power of the number of digits.\n",
        "\n",
        "  Args:\n",
        "    number: The number to check.\n",
        "\n",
        "  Returns:\n",
        "    True if the number is an Armstrong number, False otherwise.\n",
        "  \"\"\"\n",
        "  # Convert the number to a string to easily access digits and count them\n",
        "  num_str = str(number)\n",
        "  num_digits = len(num_str)\n",
        "  sum_of_powers = 0\n",
        "\n",
        "  # Calculate the sum of each digit raised to the power of the number of digits\n",
        "  for digit in num_str:\n",
        "    sum_of_powers += int(digit) ** num_digits\n",
        "\n",
        "  # Check if the sum is equal to the original number\n",
        "  return sum_of_powers == number\n",
        "\n",
        "# Example usage:\n",
        "num_to_check = 153\n",
        "if is_armstrong_number(num_to_check):\n",
        "  print(f\"{num_to_check} is an Armstrong number\")\n",
        "else:\n",
        "  print(f\"{num_to_check} is not an Armstrong number\")\n",
        "\n",
        "num_to_check = 123\n",
        "if is_armstrong_number(num_to_check):\n",
        "  print(f\"{num_to_check} is an Armstrong number\")\n",
        "else:\n",
        "  print(f\"{num_to_check} is not an Armstrong number\")"
      ],
      "execution_count": null,
      "outputs": [
        {
          "output_type": "stream",
          "name": "stdout",
          "text": [
            "153 is an Armstrong number\n",
            "123 is not an Armstrong number\n"
          ]
        }
      ]
    },
    {
      "cell_type": "markdown",
      "source": [
        "Explanation:\n",
        "This code defines a function is_armstrong_number that determines if a given number is an Armstrong number.\n",
        "\n",
        "It converts the input number to a string (num_str) to easily find the number of digits (num_digits) and iterate through each digit.\n",
        "It initializes a variable sum_of_powers to 0.\n",
        "It then iterates through each digit in the num_str. For each digit, it converts it back to an integer (int(digit)) and raises it to the power of the total number of digits (num_digits). This result is added to sum_of_powers.\n",
        "Finally, it compares the calculated sum_of_powers with the original number. If they are equal, the function returns True, indicating it's an Armstrong number; otherwise, it returns False.\n",
        "output is here,\n",
        "153 is an Armstrong number\n",
        "123 is not an Armstrong number"
      ],
      "metadata": {
        "id": "AlsoQR4A_Pah"
      }
    },
    {
      "cell_type": "markdown",
      "source": [
        "Task5; generate code for sorting a list of dictionaries by a\n",
        "specific key\n",
        "prompt; give the code for sorting a list of dictionaries by a\n",
        "specific key."
      ],
      "metadata": {
        "id": "uMbodIk8__Pu"
      }
    },
    {
      "cell_type": "code",
      "metadata": {
        "colab": {
          "base_uri": "https://localhost:8080/"
        },
        "id": "b424b02c",
        "outputId": "d6e8d74a-24c1-4f76-9885-6d48faa07726"
      },
      "source": [
        "def sort_list_of_dicts(list_of_dicts, key):\n",
        "  \"\"\"Sorts a list of dictionaries by a specific key.\n",
        "\n",
        "  Args:\n",
        "    list_of_dicts: The list of dictionaries to sort.\n",
        "    key: The key to sort by.\n",
        "\n",
        "  Returns:\n",
        "    A new list of dictionaries sorted by the specified key.\n",
        "  \"\"\"\n",
        "  return sorted(list_of_dicts, key=lambda x: x[key])\n",
        "\n",
        "# Example usage:\n",
        "my_list = [\n",
        "    {'name': 'Alice', 'age': 30},\n",
        "    {'name': 'Bob', 'age': 25},\n",
        "    {'name': 'Charlie', 'age': 35}\n",
        "]\n",
        "\n",
        "sorted_list = sort_list_of_dicts(my_list, 'age')\n",
        "print(\"Sorted by age:\")\n",
        "print(sorted_list)\n",
        "\n",
        "sorted_list_name = sort_list_of_dicts(my_list, 'name')\n",
        "print(\"\\nSorted by name:\")\n",
        "print(sorted_list_name)"
      ],
      "execution_count": null,
      "outputs": [
        {
          "output_type": "stream",
          "name": "stdout",
          "text": [
            "Sorted by age:\n",
            "[{'name': 'Bob', 'age': 25}, {'name': 'Alice', 'age': 30}, {'name': 'Charlie', 'age': 35}]\n",
            "\n",
            "Sorted by name:\n",
            "[{'name': 'Alice', 'age': 30}, {'name': 'Bob', 'age': 25}, {'name': 'Charlie', 'age': 35}]\n"
          ]
        }
      ]
    },
    {
      "cell_type": "markdown",
      "source": [
        "Explanation:\n",
        "Sorts a list of dictionaries by a specific key. - This line gives a brief overview of the function's purpose.\n",
        "Args: - This indicates the start of the arguments section.\n",
        "list_of_dicts: The list of dictionaries to sort. - This describes the first argument, list_of_dicts, and its type (a list of dictionaries).\n",
        "key: The key to sort by. - This describes the second argument, key, which is the key within the dictionaries to use for sorting.\n",
        "Returns: - This indicates the start of the return value section.\n",
        "A new list of dictionaries sorted by the specified key. - This describes what the function returns: a new list containing the same dictionaries but sorted based on the value associated with the specified key.\n",
        "output is here\n",
        "Sorted by age:\n",
        "[{'name': 'Bob', 'age': 25}, {'name': 'Alice', 'age': 30}, {'name': 'Charlie', 'age': 35}]\n",
        "\n",
        "Sorted by name:\n",
        "[{'name': 'Alice', 'age': 30}, {'name': 'Bob', 'age': 25}, {'name': 'Charlie', 'age': 35}]\n"
      ],
      "metadata": {
        "id": "tr1N1GQvAic3"
      }
    }
  ]
}